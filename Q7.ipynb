{
 "cells": [
  {
   "cell_type": "code",
   "execution_count": 1,
   "id": "077260aa",
   "metadata": {},
   "outputs": [],
   "source": [
    "import pandas as pd\n",
    "import requests\n",
    "import io\n",
    "import matplotlib.pyplot as plt"
   ]
  },
  {
   "cell_type": "code",
   "execution_count": 2,
   "id": "dd591ec3",
   "metadata": {},
   "outputs": [],
   "source": [
    "file_id = '1MM1vzR0nuAfFH8tIXzs7PJMulZ9Nod22'\n",
    "url = f'https://drive.google.com/uc?id={file_id}'\n",
    "\n",
    "\n",
    "download = requests.get(url).content\n",
    "df = pd.read_csv(io.StringIO(download.decode('utf-8')),delimiter=';')"
   ]
  },
  {
   "cell_type": "code",
   "execution_count": 3,
   "id": "bff22235",
   "metadata": {
    "scrolled": false
   },
   "outputs": [],
   "source": [
    "# df"
   ]
  },
  {
   "cell_type": "code",
   "execution_count": 4,
   "id": "90c4f3e8",
   "metadata": {},
   "outputs": [
    {
     "name": "stdout",
     "output_type": "stream",
     "text": [
      "% of sessions with an intention to book: 29.28%\n",
      "% of sessions with a successful booking: 10.06%\n"
     ]
    }
   ],
   "source": [
    "# Define event types that indicate intention to book and successful booking\n",
    "intention_to_book_events = ['Application Opened', 'List Of Payment Shown', 'Payment Method Chosen', ...]\n",
    "successful_booking_events = ['Ride Started - Successful', 'Ride Done - Successful', ...]\n",
    "\n",
    "# Categorize events\n",
    "df['intention_to_book'] = df['event_name'].isin(intention_to_book_events)\n",
    "df['successful_booking'] = df['event_name'].isin(successful_booking_events)\n",
    "\n",
    "# Calculate percentages\n",
    "intention_to_book_percentage = (df['intention_to_book'].mean() * 100).round(2)\n",
    "successful_booking_percentage = (df['successful_booking'].mean() * 100).round(2)\n",
    "\n",
    "# Print percentages\n",
    "print(f'% of sessions with an intention to book: {intention_to_book_percentage}%')\n",
    "print(f'% of sessions with a successful booking: {successful_booking_percentage}%')\n"
   ]
  },
  {
   "cell_type": "code",
   "execution_count": 5,
   "id": "6efa7264",
   "metadata": {},
   "outputs": [],
   "source": [
    "####Hypothesis"
   ]
  },
  {
   "cell_type": "markdown",
   "id": "e87fd86d",
   "metadata": {},
   "source": [
    "Hypothesis 1: App Version and Event Engagement\n",
    "\n",
    "Hypothesis: Different app versions may influence user engagement with specific events.\n",
    "Null Hypothesis (H0): There is no significant difference in user engagement with specific events across different app versions.\n",
    "Alternative Hypothesis (H1): User engagement with specific events varies significantly across different app versions.\n",
    "Testing: Conduct statistical tests to determine whether specific events have significantly different engagement levels (event frequencies) across app versions.\n",
    "Hypothesis 2: Device Type and Event Preferences\n",
    "\n",
    "Hypothesis: Users on iOS and Android devices may exhibit different event preferences.\n",
    "Null Hypothesis (H0): There is no significant difference in event preferences between iOS and Android users.\n",
    "Alternative Hypothesis (H1): Event preferences differ significantly between iOS and Android users.\n",
    "Testing: Compare event frequencies and event types between iOS and Android users. Conduct statistical tests to identify significant differences.\n",
    "Hypothesis 3: Peak Activity Hours\n",
    "\n",
    "Hypothesis: There may be specific time periods during the day when user activity and engagement with the app are at their peak.\n",
    "Null Hypothesis (H0): User activity and engagement do not exhibit distinct peak hours.\n",
    "Alternative Hypothesis (H1): User activity and engagement show distinct peak hours during the day.\n",
    "Testing: Analyze the distribution of events over time (e.g., hours of the day) and use statistical methods to identify significant peaks in user activity.\n",
    "Hypothesis 4: Conversion Rate Analysis\n",
    "\n",
    "Hypothesis: Certain events may act as conversion points leading to successful actions, such as ride bookings.\n",
    "Null Hypothesis (H0): There is no significant difference in conversion rates associated with specific events.\n",
    "Alternative Hypothesis (H1): Certain events have significantly higher conversion rates than others.\n",
    "Testing: Calculate conversion rates for specific events (e.g., \"Ride Done - Successful\") and compare them to identify events with higher conversion rates.\n",
    "Hypothesis 5: Location-Based Engagement\n",
    "\n",
    "Hypothesis: User engagement events related to specific business zones may vary.\n",
    "Null Hypothesis (H0): There is no significant difference in user engagement events across different business zones.\n",
    "Alternative Hypothesis (H1): User engagement events vary significantly by business zone.\n",
    "Testing: Analyze event frequencies and types in different business zones and conduct statistical tests to identify significant differences.\n"
   ]
  },
  {
   "cell_type": "code",
   "execution_count": null,
   "id": "91726eb7",
   "metadata": {},
   "outputs": [],
   "source": []
  }
 ],
 "metadata": {
  "kernelspec": {
   "display_name": "dummyvenv",
   "language": "python",
   "name": "dummyvenv"
  },
  "language_info": {
   "codemirror_mode": {
    "name": "ipython",
    "version": 3
   },
   "file_extension": ".py",
   "mimetype": "text/x-python",
   "name": "python",
   "nbconvert_exporter": "python",
   "pygments_lexer": "ipython3",
   "version": "3.10.2"
  }
 },
 "nbformat": 4,
 "nbformat_minor": 5
}
